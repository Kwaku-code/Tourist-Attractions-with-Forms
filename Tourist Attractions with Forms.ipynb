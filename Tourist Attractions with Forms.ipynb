{
 "cells": [
  {
   "cell_type": "markdown",
   "metadata": {},
   "source": [
    "model.py"
   ]
  },
  {
   "cell_type": "code",
   "execution_count": null,
   "metadata": {},
   "outputs": [],
   "source": [
    "from django.db import models\n",
    "\n",
    "class State(models.Model):\n",
    "  stateName = models.CharField(max_length=50, verbose_name=\"State Name\")\n",
    "  stateAbbreviation = models.CharField(max_length=3, verbose_name=\"State Abbreviation\")\n",
    "  def __str__(self):\n",
    "    return '{}'.format(self.stateName)\n",
    "\n",
    "class Attraction(models.Model):\n",
    "  homeState = models.ForeignKey(State, on_delete=models.CASCADE, verbose_name=\"Home State\")\n",
    "  attractionName = models.CharField(max_length=200, verbose_name=\"Attraction Name\")\n",
    "  def __str__(self):\n",
    "    return '{}'.format(self.attractionName)"
   ]
  },
  {
   "cell_type": "markdown",
   "metadata": {},
   "source": [
    "views.py"
   ]
  },
  {
   "cell_type": "code",
   "execution_count": null,
   "metadata": {},
   "outputs": [],
   "source": [
    "from django.shortcuts import render, get_object_or_404\n",
    "from .models import State, Attraction\n",
    "from .forms import StateCreateForm, AttractionCreateForm\n",
    "from django.views.generic.edit import CreateView\n",
    "\n",
    "def home(request):\n",
    "  all_attractions = Attraction.objects.all()\n",
    "  context = {\"attractions\" : all_attractions}\n",
    "  return render(request, 'tourist_attractions/home.html', context)\n",
    "\n",
    "def details(request, statename):\n",
    "  attractions = Attraction.objects.all()\n",
    "  context = {\"attractions\" : attractions, \"statename\" : statename.replace(\"-\", \" \")}\n",
    "  return render(request, 'tourist_attractions/details.html', context)\n",
    "\n",
    "class StateCreate(CreateView):\n",
    "  model = State\n",
    "  form_class = StateCreateForm\n",
    "  template_name = \"tourist_attractions/state_create_form.html\"\n",
    "\n",
    "  def get_absolute_url(self):\n",
    "    return (\"/tourist_attractions/\")\n",
    "\n",
    "class AttractionCreate(CreateView):\n",
    "  model = Attraction\n",
    "  form_class = AttractionCreateForm\n",
    "  template_name = \"tourist_attractions/attraction_create_form.html\"\n",
    "\n",
    "  def get_absolute_url(self):\n",
    "    return (\"/tourist_attractions/\")"
   ]
  },
  {
   "cell_type": "markdown",
   "metadata": {},
   "source": [
    "urls.py"
   ]
  },
  {
   "cell_type": "code",
   "execution_count": null,
   "metadata": {},
   "outputs": [],
   "source": [
    "from django.urls import path\n",
    "\n",
    "from . import views\n",
    "\n",
    "urlpatterns = [\n",
    "  path(\"\", views.home, name=\"home\"),\n",
    "  path(\"details/<statename>\", views.details, name=\"details\"),\n",
    "  path(\"state/create\", views.StateCreate.as_view(), name=\"statecreate\"),\n",
    "  path(\"attraction/create\", views.AttractionCreate.as_view(), name= \"attractioncreate\")\n",
    "]"
   ]
  }
 ],
 "metadata": {
  "kernelspec": {
   "display_name": "Python 3",
   "language": "python",
   "name": "python3"
  },
  "language_info": {
   "codemirror_mode": {
    "name": "ipython",
    "version": 3
   },
   "file_extension": ".py",
   "mimetype": "text/x-python",
   "name": "python",
   "nbconvert_exporter": "python",
   "pygments_lexer": "ipython3",
   "version": "3.7.3"
  }
 },
 "nbformat": 4,
 "nbformat_minor": 2
}
